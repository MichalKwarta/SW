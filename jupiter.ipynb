{
 "cells": [
  {
   "cell_type": "code",
   "execution_count": 8,
   "metadata": {},
   "outputs": [
    {
     "data": {
      "application/vnd.jupyter.widget-view+json": {
       "model_id": "3e67bfe0c9f548aa9f9c1b8a794e48b7",
       "version_major": 2,
       "version_minor": 0
      },
      "text/plain": [
       "interactive(children=(Dropdown(description='img', options=('nowe.jpg',), value='nowe.jpg'), IntSlider(value=13…"
      ]
     },
     "metadata": {},
     "output_type": "display_data"
    }
   ],
   "source": [
    "#HOUGH CIRCLES APPROACH\n",
    "import cv2\n",
    "import matplotlib.pyplot as plt\n",
    "from ipywidgets import interact, interactive\n",
    "from glob import glob\n",
    "%matplotlib inline \n",
    "\n",
    "import numpy as np\n",
    "\n",
    "def func(img,minDist = 13 , param1 = 160, param2 = 11, minRadius = 5 , maxRadius = 10):\n",
    "    img = cv2.imread(img)\n",
    "    gray = cv2.cvtColor(img,cv2.COLOR_BGR2GRAY)\n",
    "    circles = cv2.HoughCircles(gray, cv2.HOUGH_GRADIENT, 1, minDist=minDist, param1=param1, param2=param2, minRadius=minRadius, maxRadius=maxRadius)\n",
    "    if circles is not None:\n",
    "        circles = np.uint16(np.around(circles))\n",
    "        for i in circles[0,:]:\n",
    "            cv2.circle(img, (i[0], i[1]), i[2], (0, 255, 0), 2)\n",
    "        print(len(circles[0]))\n",
    "    plt.imshow(cv2.cvtColor(img,cv2.COLOR_BGR2RGB))\n",
    "        \n",
    "    \n",
    "interactive(func,img=glob(\"nowe.jpg\"),\n",
    "            minDist = (0,100,1),\n",
    "                               param1=(0,200,1), param2=(0,50,1),\n",
    "                               minRadius=(0,10,1), maxRadius=(00,15,1)\n",
    "            \n",
    "            \n",
    "            \n",
    "            )"
   ]
  },
  {
   "cell_type": "code",
   "execution_count": null,
   "metadata": {},
   "outputs": [],
   "source": []
  }
 ],
 "metadata": {
  "interpreter": {
   "hash": "36cf16204b8548560b1c020c4e8fb5b57f0e4c58016f52f2d4be01e192833930"
  },
  "kernelspec": {
   "display_name": "Python 3.9.5 64-bit",
   "language": "python",
   "name": "python3"
  },
  "language_info": {
   "codemirror_mode": {
    "name": "ipython",
    "version": 3
   },
   "file_extension": ".py",
   "mimetype": "text/x-python",
   "name": "python",
   "nbconvert_exporter": "python",
   "pygments_lexer": "ipython3",
   "version": "3.9.7"
  },
  "orig_nbformat": 4
 },
 "nbformat": 4,
 "nbformat_minor": 2
}
