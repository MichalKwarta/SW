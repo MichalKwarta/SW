{
 "cells": [
  {
   "cell_type": "code",
   "execution_count": 1,
   "metadata": {},
   "outputs": [
    {
     "ename": "SyntaxError",
     "evalue": "invalid syntax (1476242549.py, line 17)",
     "output_type": "error",
     "traceback": [
      "\u001b[0;36m  File \u001b[0;32m\"/tmp/ipykernel_191589/1476242549.py\"\u001b[0;36m, line \u001b[0;32m17\u001b[0m\n\u001b[0;31m    def tmp(file)\u001b[0m\n\u001b[0m                 ^\u001b[0m\n\u001b[0;31mSyntaxError\u001b[0m\u001b[0;31m:\u001b[0m invalid syntax\n"
     ]
    }
   ],
   "source": [
    "import cv2\n",
    "import matplotlib.pyplot as plt\n",
    "from ipywidgets import interact, interactive\n",
    "from glob import glob\n",
    "%matplotlib inline \n",
    "\n",
    "# camera = cv2.VideoCapture(0)\n",
    "# _, _ = camera.read()\n",
    "\n",
    "\n",
    "##TU JEST KOD, KTÓRY W ZAŁOŻENIU MA DZIAŁAĆ \n",
    "##Następne komórki to raczej playground\n",
    "#TODO: dobrac min/max rozmiar oczka\n",
    "#TODO: dobrać wycięcie obrazka\n",
    "\n",
    "\n",
    "def tmp(file)\n",
    "    img = cv2.imread(file)\n",
    "    _ ,_ ,red = cv2.split(img)\n",
    "    _, threshh = cv2.threshold(red, 50, 255, cv2.THRESH_BINARY)\n",
    "    contours, _ = cv2.findContours(threshh, cv2.RETR_LIST, cv2.CHAIN_APPROX_NONE)\n",
    "\n",
    "    for c in contours:\n",
    "        (_,_,w,h) = cv2.boundingRect(c)\n",
    "        if 100<cv2.contourArea(c)<=300  and 0.8<w/h<1.2:  \n",
    "            cv2.drawContours(img, [c], -1, (0, 0, 255), 2)\n",
    "        \n",
    "    plt.imshow(cv2.cvtColor(img,cv2.COLOR_BGR2RGB))\n",
    "interactive(,img=glob(\"rozproszone/*.jpg\"),lower=(0,255,1),\n",
    "            a = (-200,200,1),\n",
    "            b = (-200,0,1),\n",
    "            c = (0,200,1),\n",
    "            d = (-200,0,1)"
   ]
  },
  {
   "cell_type": "code",
   "execution_count": null,
   "metadata": {},
   "outputs": [
    {
     "data": {
      "application/vnd.jupyter.widget-view+json": {
       "model_id": "456bc826b3e742a2a8f680ad70cc4461",
       "version_major": 2,
       "version_minor": 0
      },
      "text/plain": [
       "interactive(children=(Dropdown(description='img', options=('test2.jpg', 'obrazek.jpg', 'test.jpg', 'dupa.jpg')…"
      ]
     },
     "metadata": {},
     "output_type": "display_data"
    }
   ],
   "source": [
    "#tool do znajdowania odpowiedniego wycięcia\n",
    "#Nie mam pojecia czy to jest potrzebne\n",
    "def getThresh(img,lower=20,a=110,b=-30,c=230,d=-60):    \n",
    "    img = cv2.imread(img)\n",
    "    plt.imshow(img)\n",
    "    _,_,red = cv2.split(img) # a w zasadzue chyba red XD\n",
    "    ret, threshh = cv2.threshold(red, lower, 255, cv2.THRESH_BINARY)\n",
    "    plt.imshow(threshh)\n",
    "    \n",
    "interactive(getThresh,img=glob(\"*.jpg\"),lower=(0,255,1),\n",
    "            \n",
    "            \n",
    "            )"
   ]
  },
  {
   "cell_type": "code",
   "execution_count": null,
   "metadata": {},
   "outputs": [
    {
     "data": {
      "application/vnd.jupyter.widget-view+json": {
       "model_id": "bde21573ee4d43dab0e2f0a0878d50d1",
       "version_major": 2,
       "version_minor": 0
      },
      "text/plain": [
       "interactive(children=(Dropdown(description='img', options=('rozproszone/269702979_1986249894883117_58937073385…"
      ]
     },
     "metadata": {},
     "output_type": "display_data"
    }
   ],
   "source": [
    "#HOUGH CIRCLES APPROACH\n",
    "\n",
    "import numpy as np\n",
    "\n",
    "def func(img,minDist = 1 , param1 = 300, param2 = 1, minRadius = 1 , maxRadius = 400):\n",
    "    img = cv2.imread(img)\n",
    "    img = img[77:-8,68:-104]\n",
    "    gray,_,_ = cv2.split(img)\n",
    "    circles = cv2.HoughCircles(gray, cv2.HOUGH_GRADIENT, 1, minDist=minDist, param1=param1, param2=param2, minRadius=minRadius, maxRadius=maxRadius)\n",
    "    if circles is not None:\n",
    "        circles = np.uint16(np.around(circles))\n",
    "        for i in circles[0,:]:\n",
    "            cv2.circle(img, (i[0], i[1]), i[2], (0, 255, 0), 2)\n",
    "            \n",
    "    plt.imshow(cv2.cvtColor(img,cv2.COLOR_BGR2RGB))\n",
    "    \n",
    "interactive(func,img=glob(\"rozproszone/*.jpg\"),\n",
    "            minDist = (0,100,1),\n",
    "                               param1=(0,200,1), param2=(0,50,1),\n",
    "                               minRadius=(0,10,1), maxRadius=(00,15,1)\n",
    "            \n",
    "            \n",
    "            \n",
    "            )"
   ]
  },
  {
   "cell_type": "code",
   "execution_count": null,
   "metadata": {},
   "outputs": [
    {
     "data": {
      "application/vnd.jupyter.widget-view+json": {
       "model_id": "e8bde0bb8d9e436688b47012c38d248b",
       "version_major": 2,
       "version_minor": 0
      },
      "text/plain": [
       "interactive(children=(Dropdown(description='img', options=('rozproszone/269702979_1986249894883117_58937073385…"
      ]
     },
     "metadata": {},
     "output_type": "display_data"
    }
   ],
   "source": [
    "\n",
    "\n",
    "def tmp(img):\n",
    "    img = cv2.imread(img)\n",
    "    _ ,_ ,red = cv2.split(img)\n",
    "    _, threshh = cv2.threshold(red, 50, 255, cv2.THRESH_BINARY)\n",
    "    contours, _ = cv2.findContours(threshh, cv2.RETR_LIST, cv2.CHAIN_APPROX_NONE)\n",
    "\n",
    "    for c in contours:\n",
    "        (_,_,w,h) = cv2.boundingRect(c)\n",
    "        if 100<cv2.contourArea(c)<=300  and 0.8<w/h<1.2:  \n",
    "            cv2.drawContours(img, [c], -1, (0, 0, 255), 2)\n",
    "            \n",
    "    plt.imshow(cv2.cvtColor(img,cv2.COLOR_BGR2RGB))\n",
    "interactive(tmp,img = glob(\"rozproszone/*.jpg\") )"
   ]
  },
  {
   "cell_type": "code",
   "execution_count": null,
   "metadata": {},
   "outputs": [],
   "source": []
  },
  {
   "cell_type": "code",
   "execution_count": 3,
   "metadata": {},
   "outputs": [
    {
     "ename": "error",
     "evalue": "OpenCV(4.5.4) /tmp/pip-req-build-kv0l0wqx/opencv/modules/imgproc/src/shapedescr.cpp:874: error: (-215:Assertion failed) npoints >= 0 && (depth == CV_32F || depth == CV_32S) in function 'pointSetBoundingRect'\n",
     "output_type": "error",
     "traceback": [
      "\u001b[0;31m---------------------------------------------------------------------------\u001b[0m",
      "\u001b[0;31merror\u001b[0m                                     Traceback (most recent call last)",
      "\u001b[0;32m/tmp/ipykernel_187960/2398189249.py\u001b[0m in \u001b[0;36m<module>\u001b[0;34m\u001b[0m\n\u001b[1;32m      9\u001b[0m \u001b[0msuma\u001b[0m \u001b[0;34m=\u001b[0m \u001b[0;36m0\u001b[0m\u001b[0;34m\u001b[0m\u001b[0;34m\u001b[0m\u001b[0m\n\u001b[1;32m     10\u001b[0m \u001b[0;32mfor\u001b[0m \u001b[0mc\u001b[0m \u001b[0;32min\u001b[0m \u001b[0mcontours\u001b[0m\u001b[0;34m[\u001b[0m\u001b[0;36m1\u001b[0m\u001b[0;34m]\u001b[0m\u001b[0;34m:\u001b[0m\u001b[0;34m\u001b[0m\u001b[0;34m\u001b[0m\u001b[0m\n\u001b[0;32m---> 11\u001b[0;31m     \u001b[0;34m(\u001b[0m\u001b[0m_\u001b[0m\u001b[0;34m,\u001b[0m \u001b[0m_\u001b[0m\u001b[0;34m,\u001b[0m \u001b[0mw\u001b[0m\u001b[0;34m,\u001b[0m \u001b[0mh\u001b[0m\u001b[0;34m)\u001b[0m \u001b[0;34m=\u001b[0m \u001b[0mcv2\u001b[0m\u001b[0;34m.\u001b[0m\u001b[0mboundingRect\u001b[0m\u001b[0;34m(\u001b[0m\u001b[0mc\u001b[0m\u001b[0;34m)\u001b[0m\u001b[0;34m\u001b[0m\u001b[0;34m\u001b[0m\u001b[0m\n\u001b[0m\u001b[1;32m     12\u001b[0m     \u001b[0;32mif\u001b[0m \u001b[0;36m100\u001b[0m \u001b[0;34m<\u001b[0m \u001b[0mcv2\u001b[0m\u001b[0;34m.\u001b[0m\u001b[0mcontourArea\u001b[0m\u001b[0;34m(\u001b[0m\u001b[0mc\u001b[0m\u001b[0;34m)\u001b[0m \u001b[0;34m<=\u001b[0m \u001b[0;36m300\u001b[0m \u001b[0;32mand\u001b[0m \u001b[0;36m0.8\u001b[0m \u001b[0;34m<\u001b[0m \u001b[0mw\u001b[0m \u001b[0;34m/\u001b[0m \u001b[0mh\u001b[0m \u001b[0;34m<\u001b[0m \u001b[0;36m1.2\u001b[0m\u001b[0;34m:\u001b[0m\u001b[0;34m\u001b[0m\u001b[0;34m\u001b[0m\u001b[0m\n\u001b[1;32m     13\u001b[0m         \u001b[0msuma\u001b[0m \u001b[0;34m+=\u001b[0m \u001b[0;36m1\u001b[0m\u001b[0;34m\u001b[0m\u001b[0;34m\u001b[0m\u001b[0m\n",
      "\u001b[0;31merror\u001b[0m: OpenCV(4.5.4) /tmp/pip-req-build-kv0l0wqx/opencv/modules/imgproc/src/shapedescr.cpp:874: error: (-215:Assertion failed) npoints >= 0 && (depth == CV_32F || depth == CV_32S) in function 'pointSetBoundingRect'\n"
     ]
    }
   ],
   "source": [
    "import cv2\n",
    "camera = cv2.VideoCapture(0)\n",
    "_, frame = camera.read()\n",
    "cv2.imwrite(\"nowe.jpg\", frame)\n",
    "\n",
    "_, _, red = cv2.split(frame)\n",
    "_, threshh = cv2.threshold(red, 50, 255, cv2.THRESH_BINARY)\n",
    "contours = cv2.findContours(threshh, cv2.RETR_LIST, cv2.CHAIN_APPROX_NONE)\n",
    "suma = 0\n",
    "for c in contours[1]:\n",
    "    (_, _, w, h) = cv2.boundingRect(c)\n",
    "    if 100 < cv2.contourArea(c) <= 300 and 0.8 < w / h < 1.2:\n",
    "        suma += 1\n",
    "print(suma)"
   ]
  }
 ],
 "metadata": {
  "interpreter": {
   "hash": "36cf16204b8548560b1c020c4e8fb5b57f0e4c58016f52f2d4be01e192833930"
  },
  "kernelspec": {
   "display_name": "Python 3.9.5 64-bit",
   "language": "python",
   "name": "python3"
  },
  "language_info": {
   "codemirror_mode": {
    "name": "ipython",
    "version": 3
   },
   "file_extension": ".py",
   "mimetype": "text/x-python",
   "name": "python",
   "nbconvert_exporter": "python",
   "pygments_lexer": "ipython3",
   "version": "3.9.7"
  },
  "orig_nbformat": 4
 },
 "nbformat": 4,
 "nbformat_minor": 2
}
